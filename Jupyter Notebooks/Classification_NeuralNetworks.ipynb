{
  "nbformat": 4,
  "nbformat_minor": 0,
  "metadata": {
    "colab": {
      "provenance": []
    },
    "kernelspec": {
      "name": "python3",
      "display_name": "Python 3"
    },
    "language_info": {
      "name": "python"
    }
  },
  "cells": [
    {
      "cell_type": "code",
      "execution_count": null,
      "metadata": {
        "id": "Ku6Yz-8uTLFH"
      },
      "outputs": [],
      "source": [
        "import os\n",
        "import pandas as pd\n",
        "import matplotlib.pyplot as plt\n",
        "import numpy as np\n",
        "import tensorflow as tf\n",
        "from tensorflow.keras import Sequential\n",
        "from tensorflow.keras import layers\n",
        "from tensorflow.keras import models\n",
        "from tensorflow.keras import optimizers\n",
        "from tensorflow.keras import losses\n",
        "from tensorflow.keras import metrics\n",
        "from sklearn.preprocessing import StandardScaler\n",
        "from sklearn.model_selection import train_test_split\n",
        "from sklearn.metrics import classification_report, accuracy_score\n",
        "from tensorflow import keras\n",
        "from sklearn.preprocessing import LabelEncoder\n",
        "from keras.layers import Dense"
      ]
    },
    {
      "cell_type": "code",
      "source": [
        "df = pd.read_csv('/content/iris_dataset.csv')\n",
        "df.head()"
      ],
      "metadata": {
        "colab": {
          "base_uri": "https://localhost:8080/",
          "height": 206
        },
        "id": "9GbjsXnLjdQ_",
        "outputId": "04955686-6dd2-4e04-dbef-d1aae7b47d56"
      },
      "execution_count": null,
      "outputs": [
        {
          "output_type": "execute_result",
          "data": {
            "text/plain": [
              "   sepal length (cm)  sepal width (cm)  petal length (cm)  petal width (cm)  \\\n",
              "0                5.1               3.5                1.4               0.2   \n",
              "1                4.9               3.0                1.4               0.2   \n",
              "2                4.7               3.2                1.3               0.2   \n",
              "3                4.6               3.1                1.5               0.2   \n",
              "4                5.0               3.6                1.4               0.2   \n",
              "\n",
              "        target  \n",
              "0  Iris-setosa  \n",
              "1  Iris-setosa  \n",
              "2  Iris-setosa  \n",
              "3  Iris-setosa  \n",
              "4  Iris-setosa  "
            ],
            "text/html": [
              "\n",
              "  <div id=\"df-9b7cd701-ba95-40a1-b083-df61ed5d27d9\">\n",
              "    <div class=\"colab-df-container\">\n",
              "      <div>\n",
              "<style scoped>\n",
              "    .dataframe tbody tr th:only-of-type {\n",
              "        vertical-align: middle;\n",
              "    }\n",
              "\n",
              "    .dataframe tbody tr th {\n",
              "        vertical-align: top;\n",
              "    }\n",
              "\n",
              "    .dataframe thead th {\n",
              "        text-align: right;\n",
              "    }\n",
              "</style>\n",
              "<table border=\"1\" class=\"dataframe\">\n",
              "  <thead>\n",
              "    <tr style=\"text-align: right;\">\n",
              "      <th></th>\n",
              "      <th>sepal length (cm)</th>\n",
              "      <th>sepal width (cm)</th>\n",
              "      <th>petal length (cm)</th>\n",
              "      <th>petal width (cm)</th>\n",
              "      <th>target</th>\n",
              "    </tr>\n",
              "  </thead>\n",
              "  <tbody>\n",
              "    <tr>\n",
              "      <th>0</th>\n",
              "      <td>5.1</td>\n",
              "      <td>3.5</td>\n",
              "      <td>1.4</td>\n",
              "      <td>0.2</td>\n",
              "      <td>Iris-setosa</td>\n",
              "    </tr>\n",
              "    <tr>\n",
              "      <th>1</th>\n",
              "      <td>4.9</td>\n",
              "      <td>3.0</td>\n",
              "      <td>1.4</td>\n",
              "      <td>0.2</td>\n",
              "      <td>Iris-setosa</td>\n",
              "    </tr>\n",
              "    <tr>\n",
              "      <th>2</th>\n",
              "      <td>4.7</td>\n",
              "      <td>3.2</td>\n",
              "      <td>1.3</td>\n",
              "      <td>0.2</td>\n",
              "      <td>Iris-setosa</td>\n",
              "    </tr>\n",
              "    <tr>\n",
              "      <th>3</th>\n",
              "      <td>4.6</td>\n",
              "      <td>3.1</td>\n",
              "      <td>1.5</td>\n",
              "      <td>0.2</td>\n",
              "      <td>Iris-setosa</td>\n",
              "    </tr>\n",
              "    <tr>\n",
              "      <th>4</th>\n",
              "      <td>5.0</td>\n",
              "      <td>3.6</td>\n",
              "      <td>1.4</td>\n",
              "      <td>0.2</td>\n",
              "      <td>Iris-setosa</td>\n",
              "    </tr>\n",
              "  </tbody>\n",
              "</table>\n",
              "</div>\n",
              "      <button class=\"colab-df-convert\" onclick=\"convertToInteractive('df-9b7cd701-ba95-40a1-b083-df61ed5d27d9')\"\n",
              "              title=\"Convert this dataframe to an interactive table.\"\n",
              "              style=\"display:none;\">\n",
              "        \n",
              "  <svg xmlns=\"http://www.w3.org/2000/svg\" height=\"24px\"viewBox=\"0 0 24 24\"\n",
              "       width=\"24px\">\n",
              "    <path d=\"M0 0h24v24H0V0z\" fill=\"none\"/>\n",
              "    <path d=\"M18.56 5.44l.94 2.06.94-2.06 2.06-.94-2.06-.94-.94-2.06-.94 2.06-2.06.94zm-11 1L8.5 8.5l.94-2.06 2.06-.94-2.06-.94L8.5 2.5l-.94 2.06-2.06.94zm10 10l.94 2.06.94-2.06 2.06-.94-2.06-.94-.94-2.06-.94 2.06-2.06.94z\"/><path d=\"M17.41 7.96l-1.37-1.37c-.4-.4-.92-.59-1.43-.59-.52 0-1.04.2-1.43.59L10.3 9.45l-7.72 7.72c-.78.78-.78 2.05 0 2.83L4 21.41c.39.39.9.59 1.41.59.51 0 1.02-.2 1.41-.59l7.78-7.78 2.81-2.81c.8-.78.8-2.07 0-2.86zM5.41 20L4 18.59l7.72-7.72 1.47 1.35L5.41 20z\"/>\n",
              "  </svg>\n",
              "      </button>\n",
              "      \n",
              "  <style>\n",
              "    .colab-df-container {\n",
              "      display:flex;\n",
              "      flex-wrap:wrap;\n",
              "      gap: 12px;\n",
              "    }\n",
              "\n",
              "    .colab-df-convert {\n",
              "      background-color: #E8F0FE;\n",
              "      border: none;\n",
              "      border-radius: 50%;\n",
              "      cursor: pointer;\n",
              "      display: none;\n",
              "      fill: #1967D2;\n",
              "      height: 32px;\n",
              "      padding: 0 0 0 0;\n",
              "      width: 32px;\n",
              "    }\n",
              "\n",
              "    .colab-df-convert:hover {\n",
              "      background-color: #E2EBFA;\n",
              "      box-shadow: 0px 1px 2px rgba(60, 64, 67, 0.3), 0px 1px 3px 1px rgba(60, 64, 67, 0.15);\n",
              "      fill: #174EA6;\n",
              "    }\n",
              "\n",
              "    [theme=dark] .colab-df-convert {\n",
              "      background-color: #3B4455;\n",
              "      fill: #D2E3FC;\n",
              "    }\n",
              "\n",
              "    [theme=dark] .colab-df-convert:hover {\n",
              "      background-color: #434B5C;\n",
              "      box-shadow: 0px 1px 3px 1px rgba(0, 0, 0, 0.15);\n",
              "      filter: drop-shadow(0px 1px 2px rgba(0, 0, 0, 0.3));\n",
              "      fill: #FFFFFF;\n",
              "    }\n",
              "  </style>\n",
              "\n",
              "      <script>\n",
              "        const buttonEl =\n",
              "          document.querySelector('#df-9b7cd701-ba95-40a1-b083-df61ed5d27d9 button.colab-df-convert');\n",
              "        buttonEl.style.display =\n",
              "          google.colab.kernel.accessAllowed ? 'block' : 'none';\n",
              "\n",
              "        async function convertToInteractive(key) {\n",
              "          const element = document.querySelector('#df-9b7cd701-ba95-40a1-b083-df61ed5d27d9');\n",
              "          const dataTable =\n",
              "            await google.colab.kernel.invokeFunction('convertToInteractive',\n",
              "                                                     [key], {});\n",
              "          if (!dataTable) return;\n",
              "\n",
              "          const docLinkHtml = 'Like what you see? Visit the ' +\n",
              "            '<a target=\"_blank\" href=https://colab.research.google.com/notebooks/data_table.ipynb>data table notebook</a>'\n",
              "            + ' to learn more about interactive tables.';\n",
              "          element.innerHTML = '';\n",
              "          dataTable['output_type'] = 'display_data';\n",
              "          await google.colab.output.renderOutput(dataTable, element);\n",
              "          const docLink = document.createElement('div');\n",
              "          docLink.innerHTML = docLinkHtml;\n",
              "          element.appendChild(docLink);\n",
              "        }\n",
              "      </script>\n",
              "    </div>\n",
              "  </div>\n",
              "  "
            ]
          },
          "metadata": {},
          "execution_count": 207
        }
      ]
    },
    {
      "cell_type": "code",
      "source": [
        "#DATA PREPARATION \n",
        "print(df.isnull().sum())\n"
      ],
      "metadata": {
        "colab": {
          "base_uri": "https://localhost:8080/"
        },
        "id": "VrWZfD94jdT5",
        "outputId": "5f43a6e7-d4fb-4b55-a633-0c08aaaa6ab9"
      },
      "execution_count": null,
      "outputs": [
        {
          "output_type": "stream",
          "name": "stdout",
          "text": [
            "sepal length (cm)    0\n",
            "sepal width (cm)     0\n",
            "petal length (cm)    0\n",
            "petal width (cm)     0\n",
            "target               0\n",
            "dtype: int64\n"
          ]
        }
      ]
    },
    {
      "cell_type": "code",
      "source": [
        "X = df.drop('target', axis=1)\n",
        "y = df['target']\n",
        "print(X)"
      ],
      "metadata": {
        "colab": {
          "base_uri": "https://localhost:8080/"
        },
        "id": "nWdpcClljdWj",
        "outputId": "61946934-9ffb-4a0e-d534-c13f2b944a54"
      },
      "execution_count": null,
      "outputs": [
        {
          "output_type": "stream",
          "name": "stdout",
          "text": [
            "     sepal length (cm)  sepal width (cm)  petal length (cm)  petal width (cm)\n",
            "0                  5.1               3.5                1.4               0.2\n",
            "1                  4.9               3.0                1.4               0.2\n",
            "2                  4.7               3.2                1.3               0.2\n",
            "3                  4.6               3.1                1.5               0.2\n",
            "4                  5.0               3.6                1.4               0.2\n",
            "..                 ...               ...                ...               ...\n",
            "145                6.7               3.0                5.2               2.3\n",
            "146                6.3               2.5                5.0               1.9\n",
            "147                6.5               3.0                5.2               2.0\n",
            "148                6.2               3.4                5.4               2.3\n",
            "149                5.9               3.0                5.1               1.8\n",
            "\n",
            "[150 rows x 4 columns]\n"
          ]
        }
      ]
    },
    {
      "cell_type": "code",
      "source": [
        "print(y)"
      ],
      "metadata": {
        "colab": {
          "base_uri": "https://localhost:8080/"
        },
        "id": "JvJUjgBMjdZY",
        "outputId": "046e4bff-f200-4fb0-bc25-0d5eff42a206"
      },
      "execution_count": null,
      "outputs": [
        {
          "output_type": "stream",
          "name": "stdout",
          "text": [
            "0         Iris-setosa\n",
            "1         Iris-setosa\n",
            "2         Iris-setosa\n",
            "3         Iris-setosa\n",
            "4         Iris-setosa\n",
            "            ...      \n",
            "145    Iris-virginica\n",
            "146    Iris-virginica\n",
            "147    Iris-virginica\n",
            "148    Iris-virginica\n",
            "149    Iris-virginica\n",
            "Name: target, Length: 150, dtype: object\n"
          ]
        }
      ]
    },
    {
      "cell_type": "code",
      "source": [
        "X_train, X_test, y_train, y_test = train_test_split(X, y, test_size=0.1,random_state=42)"
      ],
      "metadata": {
        "id": "P5T3Fb2WjdcB"
      },
      "execution_count": null,
      "outputs": []
    },
    {
      "cell_type": "code",
      "source": [
        "print(\"length of training dataset: \", len(X_train))\n",
        "print(\"length of validation dataset: \", len(X_test))"
      ],
      "metadata": {
        "colab": {
          "base_uri": "https://localhost:8080/"
        },
        "id": "IcN6cfrijdex",
        "outputId": "4d620af9-1cbf-465d-ddfd-2c8105dc254d"
      },
      "execution_count": null,
      "outputs": [
        {
          "output_type": "stream",
          "name": "stdout",
          "text": [
            "length of training dataset:  135\n",
            "length of validation dataset:  15\n"
          ]
        }
      ]
    },
    {
      "cell_type": "code",
      "source": [
        "features_encoder = StandardScaler()\n",
        "features_encoder.fit(X_train)\n",
        "X_train = features_encoder.transform(X_train)\n",
        "X_test = features_encoder.transform(X_test)"
      ],
      "metadata": {
        "id": "8-DS4nfGjdiN"
      },
      "execution_count": null,
      "outputs": []
    },
    {
      "cell_type": "code",
      "source": [
        "label_encoder = LabelEncoder()\n",
        "label_encoder.fit(y_train)\n",
        "########################################################\n",
        "y_train = label_encoder.transform(y_train).reshape(-1, 1)\n",
        "y_test = label_encoder.transform(y_test).reshape(-1, 1)\n",
        "print(X_train)"
      ],
      "metadata": {
        "colab": {
          "base_uri": "https://localhost:8080/"
        },
        "id": "HWtZiDIzlHKG",
        "outputId": "9a69938f-eff6-4af4-c5ba-7663ede1433a"
      },
      "execution_count": null,
      "outputs": [
        {
          "output_type": "stream",
          "name": "stdout",
          "text": [
            "[[ 0.56195149  0.56791065  0.51776964  0.51036026]\n",
            " [ 0.80278784 -0.12487192  1.14441016  1.30078436]\n",
            " [-0.28097574 -1.27950953  0.06203108 -0.1483265 ]\n",
            " [-0.16055757 -0.58672696  0.403835    0.1151482 ]\n",
            " [ 0.68236966 -0.58672696  1.03047552  1.30078436]\n",
            " [-1.36473933  0.33698312 -1.24821727 -1.33396266]\n",
            " [ 0.32111514 -0.12487192  0.63170428  0.77383496]\n",
            " [-1.0034848   0.79883817 -1.24821727 -1.07048796]\n",
            " [ 0.68236966 -0.58672696  1.03047552  1.16904701]\n",
            " [ 2.4886423   1.72254825  1.48621408  1.03730966]\n",
            " [ 1.04362419 -0.12487192  0.80260624  1.43252172]\n",
            " [ 1.04362419 -1.27950953  1.14441016  0.77383496]\n",
            " [ 1.16404237  0.33698312  1.20137748  1.43252172]\n",
            " [-1.24432115 -0.12487192 -1.36215191 -1.20222531]\n",
            " [-1.24432115  0.1060556  -1.24821727 -1.33396266]\n",
            " [-1.4851575   1.26069321 -1.59002119 -1.33396266]\n",
            " [-0.16055757  3.10811338 -1.30518459 -1.07048796]\n",
            " [ 1.04362419  0.1060556   0.34686768  0.24688555]\n",
            " [-1.24432115  0.79883817 -1.24821727 -1.33396266]\n",
            " [-1.72599385  0.33698312 -1.41911923 -1.33396266]\n",
            " [ 0.56195149 -1.27950953  0.6886716   0.90557231]\n",
            " [ 0.68236966  0.33698312  0.403835    0.37862291]\n",
            " [-0.76264845  1.02976569 -1.30518459 -1.33396266]\n",
            " [-1.0034848   1.26069321 -1.36215191 -1.33396266]\n",
            " [-0.76264845  2.41533082 -1.30518459 -1.46570001]\n",
            " [-0.04013939 -0.81765448  0.74563892  0.90557231]\n",
            " [ 0.20069696  0.79883817  0.403835    0.51036026]\n",
            " [ 1.04362419  0.1060556   0.51776964  0.37862291]\n",
            " [-0.5218121   1.95347578 -1.41911923 -1.07048796]\n",
            " [-0.5218121   1.49162073 -1.30518459 -1.33396266]\n",
            " [-0.40139392 -1.51043705 -0.05190356 -0.28006385]\n",
            " [ 0.56195149 -0.58672696  0.74563892  0.37862291]\n",
            " [ 0.68236966  0.1060556   0.9735082   0.77383496]\n",
            " [ 0.92320601 -0.12487192  0.34686768  0.24688555]\n",
            " [ 1.64571507  1.26069321  1.31531212  1.69599642]\n",
            " [-0.16055757 -0.35579944  0.23293304  0.1151482 ]\n",
            " [ 2.12738777 -0.12487192  1.60014871  1.16904701]\n",
            " [-0.28097574 -0.12487192  0.403835    0.37862291]\n",
            " [-0.88306662  1.02976569 -1.36215191 -1.33396266]\n",
            " [ 2.24780595 -0.58672696  1.65711603  1.03730966]\n",
            " [-0.04013939 -0.81765448  0.17596572 -0.28006385]\n",
            " [-0.76264845  0.79883817 -1.36215191 -1.33396266]\n",
            " [-1.0034848   1.02976569 -1.41911923 -1.20222531]\n",
            " [-0.88306662  1.72254825 -1.07731531 -1.07048796]\n",
            " [-1.0034848  -2.43414713 -0.1658382  -0.28006385]\n",
            " [ 0.56195149 -0.81765448  0.63170428  0.77383496]\n",
            " [-1.24432115  0.79883817 -1.07731531 -1.33396266]\n",
            " [-1.0034848  -0.12487192 -1.24821727 -1.33396266]\n",
            " [-0.88306662  0.56791065 -1.19124995 -0.93875061]\n",
            " [-0.28097574 -0.81765448  0.23293304  0.1151482 ]\n",
            " [-0.88306662  0.79883817 -1.30518459 -1.33396266]\n",
            " [-0.16055757 -0.12487192  0.23293304 -0.01658915]\n",
            " [ 2.24780595  1.72254825  1.65711603  1.30078436]\n",
            " [-1.4851575   0.33698312 -1.36215191 -1.33396266]\n",
            " [ 0.44153331 -0.35579944  0.28990036  0.1151482 ]\n",
            " [-0.16055757 -1.27950953  0.6886716   1.03730966]\n",
            " [-0.40139392  2.64625834 -1.36215191 -1.33396266]\n",
            " [ 0.20069696 -0.12487192  0.57473696  0.77383496]\n",
            " [-0.04013939 -0.81765448  0.74563892  0.90557231]\n",
            " [ 0.20069696 -1.97229209  0.1189984  -0.28006385]\n",
            " [-0.5218121  -0.12487192  0.403835    0.37862291]\n",
            " [ 0.44153331  0.79883817  0.91654088  1.43252172]\n",
            " [-0.40139392 -1.74136457  0.1189984   0.1151482 ]\n",
            " [-0.5218121   1.95347578 -1.19124995 -1.07048796]\n",
            " [-1.0034848  -1.74136457 -0.27977284 -0.28006385]\n",
            " [ 0.68236966 -0.81765448  0.85957356  0.90557231]\n",
            " [-1.0034848   0.56791065 -1.36215191 -1.33396266]\n",
            " [-1.0034848   0.33698312 -1.47608655 -1.33396266]\n",
            " [-0.40139392 -1.51043705  0.00506376 -0.1483265 ]\n",
            " [ 1.04362419 -0.12487192  0.6886716   0.64209761]\n",
            " [-1.12390297  0.1060556  -1.30518459 -1.46570001]\n",
            " [-0.04013939 -0.58672696  0.74563892  1.56425907]\n",
            " [-1.0034848   0.79883817 -1.30518459 -1.33396266]\n",
            " [-1.0034848   1.02976569 -1.24821727 -0.80701326]\n",
            " [ 0.08027878  0.33698312  0.57473696  0.77383496]\n",
            " [-0.88306662 -1.27950953 -0.4506748  -0.1483265 ]\n",
            " [ 1.28446054  0.33698312  1.08744284  1.43252172]\n",
            " [ 0.20069696 -0.81765448  0.74563892  0.51036026]\n",
            " [ 0.32111514 -1.04858201  1.03047552  0.24688555]\n",
            " [ 2.24780595 -0.12487192  1.31531212  1.43252172]\n",
            " [-0.40139392 -1.27950953  0.1189984   0.1151482 ]\n",
            " [-1.72599385 -0.35579944 -1.36215191 -1.33396266]\n",
            " [-1.84641203 -0.12487192 -1.53305387 -1.46570001]\n",
            " [ 0.20069696 -1.97229209  0.6886716   0.37862291]\n",
            " [ 1.64571507  0.33698312  1.2583448   0.77383496]\n",
            " [-1.4851575   0.1060556  -1.30518459 -1.33396266]\n",
            " [-0.88306662  1.02976569 -1.36215191 -1.20222531]\n",
            " [-1.72599385 -0.12487192 -1.41911923 -1.33396266]\n",
            " [ 0.56195149 -1.27950953  0.63170428  0.37862291]\n",
            " [ 0.56195149  0.79883817  1.03047552  1.56425907]\n",
            " [-1.4851575   0.79883817 -1.36215191 -1.20222531]\n",
            " [ 1.16404237 -0.12487192  0.9735082   1.16904701]\n",
            " [ 0.56195149  0.56791065  1.2583448   1.69599642]\n",
            " [-1.36473933  0.33698312 -1.41911923 -1.33396266]\n",
            " [ 0.32111514 -0.35579944  0.51776964  0.24688555]\n",
            " [ 0.80278784 -0.58672696  0.46080232  0.37862291]\n",
            " [ 0.44153331 -0.58672696  0.57473696  0.77383496]\n",
            " [ 1.40487872  0.33698312  0.51776964  0.24688555]\n",
            " [ 0.68236966  0.33698312  0.85957356  1.43252172]\n",
            " [-0.88306662  1.72254825 -1.24821727 -1.33396266]\n",
            " [ 1.28446054  0.1060556   0.91654088  1.16904701]\n",
            " [ 0.08027878 -0.12487192  0.23293304  0.37862291]\n",
            " [ 0.80278784 -0.12487192  0.80260624  1.03730966]\n",
            " [-0.16055757 -1.04858201 -0.1658382  -0.28006385]\n",
            " [-0.76264845 -0.81765448  0.06203108  0.24688555]\n",
            " [ 0.32111514 -0.12487192  0.46080232  0.24688555]\n",
            " [-1.60557568 -1.74136457 -1.41911923 -1.20222531]\n",
            " [ 0.92320601 -0.35579944  0.46080232  0.1151482 ]\n",
            " [-0.40139392 -1.04858201  0.34686768 -0.01658915]\n",
            " [-0.64223027  1.49162073 -1.30518459 -1.33396266]\n",
            " [-0.28097574 -0.12487192  0.17596572  0.1151482 ]\n",
            " [ 1.76613324 -0.35579944  1.42924676  0.77383496]\n",
            " [ 1.04362419  0.56791065  1.08744284  1.16904701]\n",
            " [-0.88306662  1.49162073 -1.30518459 -1.07048796]\n",
            " [-1.12390297 -1.51043705 -0.27977284 -0.28006385]\n",
            " [ 1.04362419  0.56791065  1.08744284  1.69599642]\n",
            " [ 1.64571507 -0.12487192  1.14441016  0.51036026]\n",
            " [-1.12390297  0.1060556  -1.30518459 -1.46570001]\n",
            " [ 1.04362419  0.1060556   1.03047552  1.56425907]\n",
            " [-1.12390297 -0.12487192 -1.36215191 -1.33396266]\n",
            " [ 1.28446054  0.1060556   0.63170428  0.37862291]\n",
            " [ 1.88655142 -0.58672696  1.31531212  0.90557231]\n",
            " [ 0.56195149 -0.35579944  1.03047552  0.77383496]\n",
            " [-0.16055757 -0.58672696  0.17596572  0.1151482 ]\n",
            " [ 0.80278784 -0.12487192  0.9735082   0.77383496]\n",
            " [ 0.56195149 -1.74136457  0.34686768  0.1151482 ]\n",
            " [ 0.68236966 -0.35579944  0.28990036  0.1151482 ]\n",
            " [-0.28097574 -0.58672696  0.63170428  1.03730966]\n",
            " [ 0.08027878 -0.12487192  0.74563892  0.77383496]\n",
            " [-0.5218121   0.79883817 -1.19124995 -1.33396266]\n",
            " [ 0.32111514 -0.58672696  0.1189984   0.1151482 ]\n",
            " [-1.12390297 -1.27950953  0.403835    0.64209761]\n",
            " [-0.04013939  2.1844033  -1.47608655 -1.33396266]\n",
            " [-0.04013939 -1.04858201  0.1189984  -0.01658915]\n",
            " [ 1.52529689 -0.12487192  1.20137748  1.16904701]]\n"
          ]
        }
      ]
    },
    {
      "cell_type": "code",
      "source": [
        "print(X_train.shape)\n",
        "print(X_test.shape)\n",
        "print(y_train.shape)\n",
        "print(y_test.shape)"
      ],
      "metadata": {
        "colab": {
          "base_uri": "https://localhost:8080/"
        },
        "id": "THzB8WzHlO5N",
        "outputId": "975db15e-a40a-491a-9801-718b8daf40c2"
      },
      "execution_count": null,
      "outputs": [
        {
          "output_type": "stream",
          "name": "stdout",
          "text": [
            "(135, 4)\n",
            "(15, 4)\n",
            "(135, 1)\n",
            "(15, 1)\n"
          ]
        }
      ]
    },
    {
      "cell_type": "code",
      "source": [
        "model=Sequential()\n",
        "model.add(Dense(8,activation=\"relu\", input_shape=(4,)))\n",
        "model.add(Dense(16,activation=\"relu\"))\n",
        "model.add(Dense(32,activation=\"relu\"))\n",
        "model.add(Dense(3,activation=\"softmax\"))\n"
      ],
      "metadata": {
        "id": "vdqSv66blTMQ"
      },
      "execution_count": null,
      "outputs": []
    },
    {
      "cell_type": "code",
      "source": [
        "model.layers"
      ],
      "metadata": {
        "colab": {
          "base_uri": "https://localhost:8080/"
        },
        "id": "Kco58Oc964R1",
        "outputId": "511292cf-1605-4258-e96d-ee58874045e1"
      },
      "execution_count": null,
      "outputs": [
        {
          "output_type": "execute_result",
          "data": {
            "text/plain": [
              "[<keras.layers.core.dense.Dense at 0x7ff5522b73a0>,\n",
              " <keras.layers.core.dense.Dense at 0x7ff5522b7340>,\n",
              " <keras.layers.core.dense.Dense at 0x7ff5522b7100>,\n",
              " <keras.layers.core.dense.Dense at 0x7ff552055550>]"
            ]
          },
          "metadata": {},
          "execution_count": 217
        }
      ]
    },
    {
      "cell_type": "code",
      "source": [
        "model.compile(optimizer='adam',\n",
        "              loss='sparse_categorical_crossentropy',\n",
        "              metrics=['accuracy'])"
      ],
      "metadata": {
        "id": "CKBp7E96lXhW"
      },
      "execution_count": null,
      "outputs": []
    },
    {
      "cell_type": "code",
      "source": [
        "history = model.fit(X_train, y_train,epochs=200, verbose=0,validation_data=(X_test, y_test))"
      ],
      "metadata": {
        "id": "jfw_2Sr5lbCt"
      },
      "execution_count": null,
      "outputs": []
    },
    {
      "cell_type": "code",
      "source": [
        "model.summary()"
      ],
      "metadata": {
        "colab": {
          "base_uri": "https://localhost:8080/"
        },
        "id": "onw7Em87ljSC",
        "outputId": "539cb7df-d39d-4acd-e5cc-6ab5cbeeb93a"
      },
      "execution_count": null,
      "outputs": [
        {
          "output_type": "stream",
          "name": "stdout",
          "text": [
            "Model: \"sequential_21\"\n",
            "_________________________________________________________________\n",
            " Layer (type)                Output Shape              Param #   \n",
            "=================================================================\n",
            " dense_77 (Dense)            (None, 8)                 40        \n",
            "                                                                 \n",
            " dense_78 (Dense)            (None, 16)                144       \n",
            "                                                                 \n",
            " dense_79 (Dense)            (None, 32)                544       \n",
            "                                                                 \n",
            " dense_80 (Dense)            (None, 3)                 99        \n",
            "                                                                 \n",
            "=================================================================\n",
            "Total params: 827\n",
            "Trainable params: 827\n",
            "Non-trainable params: 0\n",
            "_________________________________________________________________\n"
          ]
        }
      ]
    },
    {
      "cell_type": "code",
      "source": [
        "model.evaluate(X_test, y_test)"
      ],
      "metadata": {
        "colab": {
          "base_uri": "https://localhost:8080/"
        },
        "id": "U3KnMfmYogN3",
        "outputId": "6714a89f-fcb1-482d-8acb-e0cfb5ca93a8"
      },
      "execution_count": null,
      "outputs": [
        {
          "output_type": "stream",
          "name": "stdout",
          "text": [
            "1/1 [==============================] - 0s 29ms/step - loss: 0.0503 - accuracy: 1.0000\n"
          ]
        },
        {
          "output_type": "execute_result",
          "data": {
            "text/plain": [
              "[0.05032351240515709, 1.0]"
            ]
          },
          "metadata": {},
          "execution_count": 221
        }
      ]
    },
    {
      "cell_type": "code",
      "source": [
        "model.evaluate(X_train,y_train)"
      ],
      "metadata": {
        "colab": {
          "base_uri": "https://localhost:8080/"
        },
        "id": "Be9va7-CS8er",
        "outputId": "ef2fcc9f-7383-4bdf-bc8d-a2927a731c5d"
      },
      "execution_count": null,
      "outputs": [
        {
          "output_type": "stream",
          "name": "stdout",
          "text": [
            "5/5 [==============================] - 0s 4ms/step - loss: 0.0456 - accuracy: 0.9778\n"
          ]
        },
        {
          "output_type": "execute_result",
          "data": {
            "text/plain": [
              "[0.04556659981608391, 0.9777777791023254]"
            ]
          },
          "metadata": {},
          "execution_count": 227
        }
      ]
    },
    {
      "cell_type": "code",
      "source": [
        "predictions=model.predict(X_test)\n",
        "predictions"
      ],
      "metadata": {
        "colab": {
          "base_uri": "https://localhost:8080/"
        },
        "id": "77C7BpIWKlvc",
        "outputId": "0823e119-3e8a-4834-d8d4-d2ae74ba5ef9"
      },
      "execution_count": null,
      "outputs": [
        {
          "output_type": "stream",
          "name": "stdout",
          "text": [
            "1/1 [==============================] - 0s 62ms/step\n"
          ]
        },
        {
          "output_type": "execute_result",
          "data": {
            "text/plain": [
              "array([[2.9311830e-04, 9.9774718e-01, 1.9597423e-03],\n",
              "       [9.9741429e-01, 2.3874890e-03, 1.9816551e-04],\n",
              "       [3.1345576e-10, 4.9068358e-06, 9.9999505e-01],\n",
              "       [7.1575597e-04, 9.7015476e-01, 2.9129341e-02],\n",
              "       [1.3779421e-04, 9.6912259e-01, 3.0739544e-02],\n",
              "       [9.9914712e-01, 8.0991024e-04, 4.2925632e-05],\n",
              "       [3.7181596e-03, 9.9578965e-01, 4.9212459e-04],\n",
              "       [1.3797389e-06, 1.0568018e-03, 9.9894184e-01],\n",
              "       [4.3020398e-05, 5.4186523e-01, 4.5809180e-01],\n",
              "       [4.3286892e-04, 9.9883395e-01, 7.3320541e-04],\n",
              "       [9.1362439e-05, 6.3932963e-02, 9.3597567e-01],\n",
              "       [9.9947900e-01, 5.0174515e-04, 1.9330950e-05],\n",
              "       [9.9905497e-01, 8.8543486e-04, 5.9591694e-05],\n",
              "       [9.9933928e-01, 6.3811761e-04, 2.2616048e-05],\n",
              "       [9.9998951e-01, 9.0020330e-06, 1.3719831e-06]], dtype=float32)"
            ]
          },
          "metadata": {},
          "execution_count": 222
        }
      ]
    },
    {
      "cell_type": "code",
      "source": [
        "print(history.history. keys())"
      ],
      "metadata": {
        "colab": {
          "base_uri": "https://localhost:8080/"
        },
        "id": "1Xfmwk28P1dR",
        "outputId": "5448bcd0-4482-4a7a-9803-594e33b6c072"
      },
      "execution_count": null,
      "outputs": [
        {
          "output_type": "stream",
          "name": "stdout",
          "text": [
            "dict_keys(['loss', 'accuracy', 'val_loss', 'val_accuracy'])\n"
          ]
        }
      ]
    },
    {
      "cell_type": "code",
      "source": [
        "plt.plot(history.history['accuracy'], label='accuracy')\n",
        "plt.plot(history.history['val_accuracy'], label='val_accuracy')\n",
        "plt.ylim([0, 1])\n",
        "plt.xlabel('Epoch')\n",
        "plt.ylabel('Accuracy')\n",
        "plt.legend()\n",
        "plt.grid(True)\n"
      ],
      "metadata": {
        "colab": {
          "base_uri": "https://localhost:8080/",
          "height": 283
        },
        "id": "VpvQIo_uoj6f",
        "outputId": "385cf1e9-a12f-4671-a8ac-d346c0ea180a"
      },
      "execution_count": null,
      "outputs": [
        {
          "output_type": "display_data",
          "data": {
            "text/plain": [
              "<Figure size 432x288 with 1 Axes>"
            ],
            "image/png": "[encoded data removed]"
          },
          "metadata": {
            "needs_background": "light"
          }
        }
      ]
    },
    {
      "cell_type": "code",
      "source": [
        "model.save(\"trained_classifier_model.csv\")"
      ],
      "metadata": {
        "id": "oclw9QEpTVCS"
      },
      "execution_count": null,
      "outputs": []
    },
    {
      "cell_type": "code",
      "source": [
        "loaded_model = models.load_model('trained_classifier_model.csv')\n"
      ],
      "metadata": {
        "id": "LAkrUhxRTVFH"
      },
      "execution_count": null,
      "outputs": []
    },
    {
      "cell_type": "code",
      "source": [
        "results = loaded_model.predict(X_test)\n",
        "preds = np.argmax(results, axis=1)"
      ],
      "metadata": {
        "colab": {
          "base_uri": "https://localhost:8080/"
        },
        "id": "fBwFnEMZTVHn",
        "outputId": "ba21a514-e3d1-49c4-bae7-f1991ffc367f"
      },
      "execution_count": null,
      "outputs": [
        {
          "output_type": "stream",
          "name": "stdout",
          "text": [
            "1/1 [==============================] - 0s 60ms/step\n"
          ]
        }
      ]
    },
    {
      "cell_type": "code",
      "source": [
        "print(accuracy_score(y_test, preds))\n",
        "print(classification_report(y_test, preds))"
      ],
      "metadata": {
        "colab": {
          "base_uri": "https://localhost:8080/"
        },
        "id": "noyAckRzTVJy",
        "outputId": "a7c8714a-aaf0-4563-c0fa-0d02d13da2a6"
      },
      "execution_count": null,
      "outputs": [
        {
          "output_type": "stream",
          "name": "stdout",
          "text": [
            "1.0\n",
            "              precision    recall  f1-score   support\n",
            "\n",
            "           0       1.00      1.00      1.00         6\n",
            "           1       1.00      1.00      1.00         6\n",
            "           2       1.00      1.00      1.00         3\n",
            "\n",
            "    accuracy                           1.00        15\n",
            "   macro avg       1.00      1.00      1.00        15\n",
            "weighted avg       1.00      1.00      1.00        15\n",
            "\n"
          ]
        }
      ]
    }
  ]
}